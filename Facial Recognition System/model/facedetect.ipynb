{
 "cells": [
  {
   "cell_type": "code",
   "execution_count": 2,
   "id": "5eac5f93-8d44-4bf1-bcc3-90af007482a1",
   "metadata": {},
   "outputs": [
    {
     "name": "stdout",
     "output_type": "stream",
     "text": [
      "Saved: cropped_training_faces\\Barack\\face_download (2).jpg\n",
      "Saved: cropped_training_faces\\Barack\\face_download (5).jpg\n",
      "Saved: cropped_training_faces\\Barack\\face_images.jpg\n",
      "Saved: cropped_training_faces\\Bond\\face_download (2).jpg\n",
      "Saved: cropped_training_faces\\Bond\\face_images (10).jpg\n",
      "Saved: cropped_training_faces\\Bond\\face_images (9).jpg\n",
      "Saved: cropped_training_faces\\Lesnar\\face_images (12).jpg\n",
      "Saved: cropped_training_faces\\Lesnar\\face_images (4).jpg\n",
      "Saved: cropped_training_faces\\Murphy\\face_download (1).jpg\n",
      "Saved: cropped_training_faces\\Murphy\\face_download (10).jpg\n",
      "Saved: cropped_training_faces\\Murphy\\face_download (12).jpg\n",
      "Saved: cropped_training_faces\\Murphy\\face_download (13).jpg\n",
      "Saved: cropped_training_faces\\Murphy\\face_download (2).jpg\n",
      "Saved: cropped_training_faces\\Murphy\\face_download (3).jpg\n",
      "Saved: cropped_training_faces\\Murphy\\face_download (4).jpg\n",
      "Saved: cropped_training_faces\\Murphy\\face_download (5).jpg\n",
      "Saved: cropped_training_faces\\Murphy\\face_download (6).jpg\n",
      "Saved: cropped_training_faces\\Murphy\\face_download (8).jpg\n",
      "Saved: cropped_training_faces\\Murphy\\face_download.jpg\n",
      "Saved: cropped_training_faces\\Murphy\\face_images (1).jpg\n",
      "Saved: cropped_training_faces\\Murphy\\face_images (2).jpg\n",
      "Saved: cropped_training_faces\\Murphy\\face_images (2).jpg\n",
      "Saved: cropped_training_faces\\Murphy\\face_images (5).jpg\n",
      "Saved: cropped_training_faces\\Murphy\\face_images (6).jpg\n",
      "Saved: cropped_training_faces\\Murphy\\face_images (8).jpg\n",
      "Saved: cropped_training_faces\\Murphy\\face_images (9).jpg\n",
      "Saved: cropped_training_faces\\Murphy\\face_images.jpg\n",
      "Saved: cropped_training_faces\\Ronaldo\\face_download (1).jpg\n",
      "Saved: cropped_training_faces\\Ronaldo\\face_download (2).jpg\n",
      "Saved: cropped_training_faces\\Ronaldo\\face_download (3).jpg\n",
      "Saved: cropped_training_faces\\Ronaldo\\face_download (4).jpg\n",
      "Saved: cropped_training_faces\\Ronaldo\\face_download (5).jpg\n",
      "Saved: cropped_training_faces\\Ronaldo\\face_download (7).jpg\n",
      "Saved: cropped_training_faces\\Ronaldo\\face_images (1).jpg\n",
      "Saved: cropped_training_faces\\Ronaldo\\face_images (14).jpg\n",
      "Saved: cropped_training_faces\\Ronaldo\\face_images (16).jpg\n",
      "Saved: cropped_training_faces\\Ronaldo\\face_images (22).jpg\n",
      "Saved: cropped_training_faces\\Ronaldo\\face_images (23).jpg\n",
      "Saved: cropped_training_faces\\Ronaldo\\face_images (24).jpg\n",
      "Saved: cropped_training_faces\\Ronaldo\\face_images (25).jpg\n",
      "Saved: cropped_training_faces\\Ronaldo\\face_images (27).jpg\n",
      "Saved: cropped_training_faces\\Ronaldo\\face_images (3).jpg\n",
      "Saved: cropped_training_faces\\Ronaldo\\face_images (4).jpg\n",
      "Saved: cropped_training_faces\\Ronaldo\\face_images (8).jpg\n",
      "Saved: cropped_training_faces\\Ronaldo\\face_images.jpg\n",
      "Saved: cropped_training_faces\\Travis Scott\\face_download (10).jpg\n",
      "Saved: cropped_training_faces\\Travis Scott\\face_download (5).jpg\n",
      "Saved: cropped_training_faces\\Travis Scott\\face_download (6).jpg\n",
      "Saved: cropped_training_faces\\Travis Scott\\face_download (8).jpg\n",
      "Saved: cropped_training_faces\\Travis Scott\\face_images (4).jpg\n",
      "Saved: cropped_training_faces\\Travis Scott\\face_images.jpg\n"
     ]
    }
   ],
   "source": [
    "import cv2\n",
    "import os\n",
    "import numpy as np\n",
    "\n",
    "# Load Haar cascade classifiers\n",
    "face_cascade = cv2.CascadeClassifier(cv2.data.haarcascades + 'haarcascade_frontalface_default.xml')\n",
    "eye_cascade = cv2.CascadeClassifier(cv2.data.haarcascades + 'haarcascade_eye.xml')\n",
    "\n",
    "# Directory setup\n",
    "input_dir = 'training_images'  # Your folder\n",
    "output_dir = 'cropped_training_faces'\n",
    "os.makedirs(output_dir, exist_ok=True)\n",
    "\n",
    "def process_image(image_path, output_path):\n",
    "    # Read the image\n",
    "    img = cv2.imread(image_path)\n",
    "    if img is None:\n",
    "        print(f\"Failed to load: {image_path}\")\n",
    "        return\n",
    "    \n",
    "    gray = cv2.cvtColor(img, cv2.COLOR_BGR2GRAY)\n",
    "\n",
    "    # Detect faces\n",
    "    faces = face_cascade.detectMultiScale(gray, scaleFactor=1.1, minNeighbors=5, minSize=(30, 30))\n",
    "\n",
    "    for i, (x, y, w, h) in enumerate(faces):\n",
    "        # Crop face region\n",
    "        face_roi = img[y:y+h, x:x+w]\n",
    "        \n",
    "        # Detect eyes within face (optional validation)\n",
    "        gray_face = gray[y:y+h, x:x+w]\n",
    "        eyes = eye_cascade.detectMultiScale(gray_face)\n",
    "        \n",
    "        # Save only if at least one eye is detected\n",
    "        if len(eyes) > 0:\n",
    "            cv2.imwrite(output_path, face_roi)\n",
    "            print(f\"Saved: {output_path}\")\n",
    "\n",
    "# Process all subfolders in training_images\n",
    "for label in os.listdir(input_dir):\n",
    "    label_input_dir = os.path.join(input_dir, label)\n",
    "    label_output_dir = os.path.join(output_dir, label)\n",
    "    os.makedirs(label_output_dir, exist_ok=True)\n",
    "    \n",
    "    if os.path.isdir(label_input_dir):\n",
    "        for filename in os.listdir(label_input_dir):\n",
    "            if filename.endswith(('.jpg', '.png')):\n",
    "                input_path = os.path.join(label_input_dir, filename)\n",
    "                output_path = os.path.join(label_output_dir, f'face_{filename}')\n",
    "                process_image(input_path, output_path)"
   ]
  },
  {
   "cell_type": "code",
   "execution_count": 4,
   "id": "5aab12a3-ca54-4faa-9b42-4430263c222c",
   "metadata": {},
   "outputs": [
    {
     "name": "stdout",
     "output_type": "stream",
     "text": [
      "Model accuracy: 80.00%\n"
     ]
    },
    {
     "data": {
      "text/plain": [
       "['face_recognition_model.pkl']"
      ]
     },
     "execution_count": 4,
     "metadata": {},
     "output_type": "execute_result"
    }
   ],
   "source": [
    "from skimage.feature import hog\n",
    "from sklearn.svm import SVC\n",
    "from sklearn.model_selection import train_test_split\n",
    "from sklearn.metrics import accuracy_score\n",
    "import numpy as np\n",
    "import cv2\n",
    "import os\n",
    "import joblib\n",
    "\n",
    "# Feature extraction function\n",
    "def extract_features(image_path):\n",
    "    img = cv2.imread(image_path, cv2.IMREAD_GRAYSCALE)\n",
    "    if img is None:\n",
    "        return None\n",
    "    img = cv2.resize(img, (64, 64))  # Standardize size\n",
    "    features, _ = hog(img, pixels_per_cell=(8, 8), cells_per_block=(2, 2), visualize=True)\n",
    "    return features\n",
    "\n",
    "# Load data from cropped_training_faces\n",
    "data = []\n",
    "labels = []\n",
    "base_dir = 'cropped_training_faces'\n",
    "\n",
    "for label in os.listdir(base_dir):\n",
    "    label_dir = os.path.join(base_dir, label)\n",
    "    if os.path.isdir(label_dir):\n",
    "        for filename in os.listdir(label_dir):\n",
    "            if filename.endswith('.jpg'):\n",
    "                features = extract_features(os.path.join(label_dir, filename))\n",
    "                if features is not None:\n",
    "                    data.append(features)\n",
    "                    labels.append(label)\n",
    "\n",
    "data = np.array(data)\n",
    "labels = np.array(labels)\n",
    "\n",
    "# Split dataset\n",
    "X_train, X_test, y_train, y_test = train_test_split(data, labels, test_size=0.2, random_state=42)\n",
    "\n",
    "# Train SVM model\n",
    "model = SVC(kernel='linear', probability=True)  # Probability=True for confidence scores\n",
    "model.fit(X_train, y_train)\n",
    "\n",
    "# Test the model\n",
    "y_pred = model.predict(X_test)\n",
    "accuracy = accuracy_score(y_test, y_pred)\n",
    "print(f\"Model accuracy: {accuracy * 100:.2f}%\")\n",
    "\n",
    "# Save the model\n",
    "joblib.dump(model, 'face_recognition_model.pkl')"
   ]
  },
  {
   "cell_type": "code",
   "execution_count": 7,
   "id": "322a0b46-a1f5-408f-9da6-f79371c90f94",
   "metadata": {},
   "outputs": [
    {
     "name": "stdout",
     "output_type": "stream",
     "text": [
      "Prediction: Murphy (87.55% confidence)\n"
     ]
    }
   ],
   "source": [
    "def predict_face(image_path, model):\n",
    "    features = extract_features(image_path)\n",
    "    if features is None:\n",
    "        return \"Error processing image\"\n",
    "    prediction = model.predict([features])[0]\n",
    "    confidence = model.predict_proba([features])[0].max() * 100\n",
    "    return f\"{prediction} ({confidence:.2f}% confidence)\"\n",
    "\n",
    "# Test on a new image\n",
    "test_image = './cropped_training_faces/Murphy/face_download (2).jpg'  # Replace with your test image path\n",
    "model = joblib.load('face_recognition_model.pkl')\n",
    "result = predict_face(test_image, model)\n",
    "print(f\"Prediction: {result}\")"
   ]
  }
 ],
 "metadata": {
  "kernelspec": {
   "display_name": "Python 3 (ipykernel)",
   "language": "python",
   "name": "python3"
  },
  "language_info": {
   "codemirror_mode": {
    "name": "ipython",
    "version": 3
   },
   "file_extension": ".py",
   "mimetype": "text/x-python",
   "name": "python",
   "nbconvert_exporter": "python",
   "pygments_lexer": "ipython3",
   "version": "3.13.1"
  }
 },
 "nbformat": 4,
 "nbformat_minor": 5
}
