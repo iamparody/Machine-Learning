{
 "cells": [
  {
   "cell_type": "code",
   "execution_count": 1,
   "id": "f55024b3-afd9-4827-af7a-f0cc477cfb45",
   "metadata": {},
   "outputs": [],
   "source": [
    "# Import necessary libraries\n",
    "import pandas as pd\n",
    "import numpy as np\n",
    "import matplotlib.pyplot as plt\n",
    "%matplotlib inline\n",
    "plt.rcParams['figure.figsize'] = (10,6)\n",
    "import seaborn as sns"
   ]
  },
  {
   "cell_type": "code",
   "execution_count": 2,
   "id": "72747676-e595-47c1-affb-89553cc66a28",
   "metadata": {},
   "outputs": [],
   "source": [
    "# Load the dataset from the CSV file\n",
    "# Replace 'path/to/housing.csv' with the actual file path on your system\n",
    "data=pd.read_csv(\"C:/Users/XXXX/Downloads/carlifornia_housing/housing.csv\")"
   ]
  },
  {
   "cell_type": "code",
   "execution_count": 3,
   "id": "4dd2091d-7548-4511-951a-2d305869e4d1",
   "metadata": {},
   "outputs": [
    {
     "name": "stdout",
     "output_type": "stream",
     "text": [
      "First 5 rows of the dataset:\n",
      "   longitude  latitude  housing_median_age  total_rooms  total_bedrooms  \\\n",
      "0    -122.23     37.88                41.0        880.0           129.0   \n",
      "1    -122.22     37.86                21.0       7099.0          1106.0   \n",
      "2    -122.24     37.85                52.0       1467.0           190.0   \n",
      "3    -122.25     37.85                52.0       1274.0           235.0   \n",
      "4    -122.25     37.85                52.0       1627.0           280.0   \n",
      "\n",
      "   population  households  median_income  median_house_value ocean_proximity  \n",
      "0       322.0       126.0         8.3252            452600.0        NEAR BAY  \n",
      "1      2401.0      1138.0         8.3014            358500.0        NEAR BAY  \n",
      "2       496.0       177.0         7.2574            352100.0        NEAR BAY  \n",
      "3       558.0       219.0         5.6431            341300.0        NEAR BAY  \n",
      "4       565.0       259.0         3.8462            342200.0        NEAR BAY  \n"
     ]
    }
   ],
   "source": [
    "# Print the first few rows to inspect the data\n",
    "print(\"First 5 rows of the dataset:\")\n",
    "print(data.head())"
   ]
  },
  {
   "cell_type": "code",
   "execution_count": 6,
   "id": "ffa3366b-bfdd-4cc5-8864-534419556a51",
   "metadata": {},
   "outputs": [
    {
     "name": "stdout",
     "output_type": "stream",
     "text": [
      "\n",
      "Dataset shape: (20640, 10)\n"
     ]
    }
   ],
   "source": [
    "# Check the dataset shape to confirm it matches the expected size (20640 rows × 10 columns)\n",
    "print(\"\\nDataset shape:\", data.shape)"
   ]
  },
  {
   "cell_type": "code",
   "execution_count": 7,
   "id": "9022a004-69dd-4eb5-8ffc-ad66353af0c0",
   "metadata": {},
   "outputs": [
    {
     "name": "stdout",
     "output_type": "stream",
     "text": [
      "\n",
      "Summary statistics:\n",
      "          longitude      latitude  housing_median_age   total_rooms  \\\n",
      "count  20640.000000  20640.000000        20640.000000  20640.000000   \n",
      "mean    -119.569704     35.631861           28.639486   2635.763081   \n",
      "std        2.003532      2.135952           12.585558   2181.615252   \n",
      "min     -124.350000     32.540000            1.000000      2.000000   \n",
      "25%     -121.800000     33.930000           18.000000   1447.750000   \n",
      "50%     -118.490000     34.260000           29.000000   2127.000000   \n",
      "75%     -118.010000     37.710000           37.000000   3148.000000   \n",
      "max     -114.310000     41.950000           52.000000  39320.000000   \n",
      "\n",
      "       total_bedrooms    population    households  median_income  \\\n",
      "count    20433.000000  20640.000000  20640.000000   20640.000000   \n",
      "mean       537.870553   1425.476744    499.539680       3.870671   \n",
      "std        421.385070   1132.462122    382.329753       1.899822   \n",
      "min          1.000000      3.000000      1.000000       0.499900   \n",
      "25%        296.000000    787.000000    280.000000       2.563400   \n",
      "50%        435.000000   1166.000000    409.000000       3.534800   \n",
      "75%        647.000000   1725.000000    605.000000       4.743250   \n",
      "max       6445.000000  35682.000000   6082.000000      15.000100   \n",
      "\n",
      "       median_house_value  \n",
      "count        20640.000000  \n",
      "mean        206855.816909  \n",
      "std         115395.615874  \n",
      "min          14999.000000  \n",
      "25%         119600.000000  \n",
      "50%         179700.000000  \n",
      "75%         264725.000000  \n",
      "max         500001.000000  \n"
     ]
    }
   ],
   "source": [
    "# Summary statistics for numerical columns\n",
    "print(\"\\nSummary statistics:\")\n",
    "print(data.describe())"
   ]
  },
  {
   "cell_type": "code",
   "execution_count": 8,
   "id": "19e326e6-4ea6-4956-9398-eaabbae003cc",
   "metadata": {},
   "outputs": [
    {
     "name": "stdout",
     "output_type": "stream",
     "text": [
      "\n",
      "Dataset info:\n",
      "<class 'pandas.core.frame.DataFrame'>\n",
      "RangeIndex: 20640 entries, 0 to 20639\n",
      "Data columns (total 10 columns):\n",
      " #   Column              Non-Null Count  Dtype  \n",
      "---  ------              --------------  -----  \n",
      " 0   longitude           20640 non-null  float64\n",
      " 1   latitude            20640 non-null  float64\n",
      " 2   housing_median_age  20640 non-null  float64\n",
      " 3   total_rooms         20640 non-null  float64\n",
      " 4   total_bedrooms      20433 non-null  float64\n",
      " 5   population          20640 non-null  float64\n",
      " 6   households          20640 non-null  float64\n",
      " 7   median_income       20640 non-null  float64\n",
      " 8   median_house_value  20640 non-null  float64\n",
      " 9   ocean_proximity     20640 non-null  object \n",
      "dtypes: float64(9), object(1)\n",
      "memory usage: 1.6+ MB\n",
      "None\n"
     ]
    }
   ],
   "source": [
    "# Basic info about the dataset (data types, non-null counts)\n",
    "print(\"\\nDataset info:\")\n",
    "print(data.info())"
   ]
  },
  {
   "cell_type": "code",
   "execution_count": 9,
   "id": "94ef5137-6de2-4c9c-9dd3-7bb41874bcce",
   "metadata": {},
   "outputs": [
    {
     "name": "stdout",
     "output_type": "stream",
     "text": [
      "\n",
      "Missing values per column:\n",
      "longitude               0\n",
      "latitude                0\n",
      "housing_median_age      0\n",
      "total_rooms             0\n",
      "total_bedrooms        207\n",
      "population              0\n",
      "households              0\n",
      "median_income           0\n",
      "median_house_value      0\n",
      "ocean_proximity         0\n",
      "dtype: int64\n"
     ]
    }
   ],
   "source": [
    "# Check for missing values\n",
    "print(\"\\nMissing values per column:\")\n",
    "print(data.isnull().sum())"
   ]
  },
  {
   "cell_type": "code",
   "execution_count": 10,
   "id": "cf44413a-3e93-4e50-953f-6118c20f247e",
   "metadata": {},
   "outputs": [
    {
     "name": "stdout",
     "output_type": "stream",
     "text": [
      "\n",
      "Missing values after imputation:\n",
      "longitude             0\n",
      "latitude              0\n",
      "housing_median_age    0\n",
      "total_rooms           0\n",
      "total_bedrooms        0\n",
      "population            0\n",
      "households            0\n",
      "median_income         0\n",
      "median_house_value    0\n",
      "ocean_proximity       0\n",
      "dtype: int64\n",
      "\n",
      "Data types:\n",
      "longitude             float64\n",
      "latitude              float64\n",
      "housing_median_age    float64\n",
      "total_rooms           float64\n",
      "total_bedrooms        float64\n",
      "population            float64\n",
      "households            float64\n",
      "median_income         float64\n",
      "median_house_value    float64\n",
      "ocean_proximity        object\n",
      "dtype: object\n"
     ]
    },
    {
     "name": "stderr",
     "output_type": "stream",
     "text": [
      "C:\\Users\\XXXX\\AppData\\Local\\Temp\\ipykernel_24920\\3912803538.py:5: FutureWarning: A value is trying to be set on a copy of a DataFrame or Series through chained assignment using an inplace method.\n",
      "The behavior will change in pandas 3.0. This inplace method will never work because the intermediate object on which we are setting values always behaves as a copy.\n",
      "\n",
      "For example, when doing 'df[col].method(value, inplace=True)', try using 'df.method({col: value}, inplace=True)' or df[col] = df[col].method(value) instead, to perform the operation inplace on the original object.\n",
      "\n",
      "\n",
      "  data[column].fillna(data[column].mean(), inplace=True)\n"
     ]
    }
   ],
   "source": [
    "# Handle missing values: Fill with the mean of the respective column\n",
    "# Assuming 'total_bedrooms' is the column with missing values (common in this dataset)\n",
    "for column in data.columns:\n",
    "    if data[column].dtype in ['float64', 'int64'] and data[column].isnull().sum() > 0:\n",
    "        data[column].fillna(data[column].mean(), inplace=True)\n",
    "\n",
    "# Verify missing values are handled\n",
    "print(\"\\nMissing values after imputation:\")\n",
    "print(data.isnull().sum())\n",
    "\n",
    "# Check data types and ensure they match the expected types from the data dictionary\n",
    "print(\"\\nData types:\")\n",
    "print(data.dtypes)"
   ]
  },
  {
   "cell_type": "code",
   "execution_count": 11,
   "id": "f934c48d-c0a7-4b52-ab2b-a5032022e21e",
   "metadata": {},
   "outputs": [],
   "source": [
    "# Convert 'ocean_proximity' to categorical (we’ll encode it later in Step 3)\n",
    "data['ocean_proximity'] = data['ocean_proximity'].astype('category')"
   ]
  },
  {
   "cell_type": "code",
   "execution_count": 12,
   "id": "a81b9561-c90c-4566-97da-033e9ebde314",
   "metadata": {},
   "outputs": [
    {
     "name": "stdout",
     "output_type": "stream",
     "text": [
      "\n",
      "Number of outliers in 'median_house_value': 1071\n"
     ]
    }
   ],
   "source": [
    "# Check for outliers using basic statistical bounds (e.g., IQR method)\n",
    "# Example for 'median_house_value'\n",
    "Q1 = data['median_house_value'].quantile(0.25)\n",
    "Q3 = data['median_house_value'].quantile(0.75)\n",
    "IQR = Q3 - Q1\n",
    "lower_bound = Q1 - 1.5 * IQR\n",
    "upper_bound = Q3 + 1.5 * IQR\n",
    "outliers = data[(data['median_house_value'] < lower_bound) | (data['median_house_value'] > upper_bound)]\n",
    "print(\"\\nNumber of outliers in 'median_house_value':\", len(outliers))"
   ]
  },
  {
   "cell_type": "code",
   "execution_count": 13,
   "id": "f8961047-994f-465c-bb3d-636dd468e506",
   "metadata": {},
   "outputs": [
    {
     "name": "stdout",
     "output_type": "stream",
     "text": [
      "Summary statistics for 'median_house_value':\n",
      "count     20640.000000\n",
      "mean     206855.816909\n",
      "std      115395.615874\n",
      "min       14999.000000\n",
      "25%      119600.000000\n",
      "50%      179700.000000\n",
      "75%      264725.000000\n",
      "max      500001.000000\n",
      "Name: median_house_value, dtype: float64\n"
     ]
    },
    {
     "data": {
      "image/png": "[encoded data removed]",
      "text/plain": [
       "<Figure size 1200x500 with 2 Axes>"
      ]
     },
     "metadata": {},
     "output_type": "display_data"
    },
    {
     "name": "stdout",
     "output_type": "stream",
     "text": [
      "\n",
      "IQR Lower Bound: -98087.5\n",
      "IQR Upper Bound: 482412.5\n",
      "Outliers below -98087.5: 0\n",
      "Outliers above 482412.5: 1071\n"
     ]
    }
   ],
   "source": [
    "import matplotlib.pyplot as plt\n",
    "import seaborn as sns\n",
    "\n",
    "# Summary stats for median_house_value\n",
    "print(\"Summary statistics for 'median_house_value':\")\n",
    "print(data['median_house_value'].describe())\n",
    "\n",
    "# Plot histogram and boxplot\n",
    "plt.figure(figsize=(12, 5))\n",
    "\n",
    "# Histogram\n",
    "plt.subplot(1, 2, 1)\n",
    "sns.histplot(data['median_house_value'], bins=50, kde=True)\n",
    "plt.title('Histogram of Median House Value')\n",
    "plt.xlabel('Median House Value')\n",
    "plt.ylabel('Frequency')\n",
    "\n",
    "# Boxplot\n",
    "plt.subplot(1, 2, 2)\n",
    "sns.boxplot(y=data['median_house_value'])\n",
    "plt.title('Boxplot of Median House Value')\n",
    "\n",
    "plt.tight_layout()\n",
    "plt.show()\n",
    "\n",
    "# Check the bounds from the IQR method\n",
    "Q1 = data['median_house_value'].quantile(0.25)\n",
    "Q3 = data['median_house_value'].quantile(0.75)\n",
    "IQR = Q3 - Q1\n",
    "lower_bound = Q1 - 1.5 * IQR\n",
    "upper_bound = Q3 + 1.5 * IQR\n",
    "print(f\"\\nIQR Lower Bound: {lower_bound}\")\n",
    "print(f\"IQR Upper Bound: {upper_bound}\")\n",
    "print(f\"Outliers below {lower_bound}: {len(data[data['median_house_value'] < lower_bound])}\")\n",
    "print(f\"Outliers above {upper_bound}: {len(data[data['median_house_value'] > upper_bound])}\")"
   ]
  },
  {
   "cell_type": "code",
   "execution_count": 14,
   "id": "d015daaa-10ea-4f94-8b1b-9d10eb9c599d",
   "metadata": {},
   "outputs": [
    {
     "name": "stdout",
     "output_type": "stream",
     "text": [
      "Original dataset shape: (20640, 10)\n",
      "Cleaned dataset shape: (19569, 10)\n",
      "Rows removed: 1071\n",
      "\n",
      "Features (X) shape: (19569, 9)\n",
      "Target (Y) shape: (19569,)\n",
      "\n",
      "Summary statistics for cleaned 'median_house_value':\n",
      "count     19569.000000\n",
      "mean     190852.301906\n",
      "std       95438.555669\n",
      "min       14999.000000\n",
      "25%      116200.000000\n",
      "50%      173200.000000\n",
      "75%      246700.000000\n",
      "max      482200.000000\n",
      "Name: median_house_value, dtype: float64\n"
     ]
    }
   ],
   "source": [
    "# Calculate IQR bounds for median_house_value\n",
    "Q1 = data['median_house_value'].quantile(0.25)\n",
    "Q3 = data['median_house_value'].quantile(0.75)\n",
    "IQR = Q3 - Q1\n",
    "lower_bound = Q1 - 1.5 * IQR\n",
    "upper_bound = Q3 + 1.5 * IQR\n",
    "\n",
    "# Filter out outliers\n",
    "data_cleaned = data[(data['median_house_value'] >= lower_bound) & (data['median_house_value'] <= upper_bound)]\n",
    "\n",
    "# Check the new shape\n",
    "print(\"Original dataset shape:\", data.shape)\n",
    "print(\"Cleaned dataset shape:\", data_cleaned.shape)\n",
    "print(\"Rows removed:\", data.shape[0] - data_cleaned.shape[0])\n",
    "\n",
    "# Re-extract X and Y from cleaned data\n",
    "X = data_cleaned.drop('median_house_value', axis=1)\n",
    "Y = data_cleaned['median_house_value']\n",
    "\n",
    "# Verify the split\n",
    "print(\"\\nFeatures (X) shape:\", X.shape)\n",
    "print(\"Target (Y) shape:\", Y.shape)\n",
    "\n",
    "# Optional: Re-run summary stats to confirm\n",
    "print(\"\\nSummary statistics for cleaned 'median_house_value':\")\n",
    "print(data_cleaned['median_house_value'].describe())"
   ]
  },
  {
   "cell_type": "code",
   "execution_count": 16,
   "id": "d7618dab-e3dd-432e-91f4-fe77a9274786",
   "metadata": {},
   "outputs": [
    {
     "name": "stdout",
     "output_type": "stream",
     "text": [
      "Unique values in 'ocean_proximity':\n",
      "['NEAR BAY', '<1H OCEAN', 'INLAND', 'NEAR OCEAN', 'ISLAND']\n",
      "Categories (5, object): ['<1H OCEAN', 'INLAND', 'ISLAND', 'NEAR BAY', 'NEAR OCEAN']\n",
      "\n",
      "First 5 rows of X after encoding:\n",
      "   longitude  latitude  housing_median_age  total_rooms  total_bedrooms  \\\n",
      "0    -122.23     37.88                41.0        880.0           129.0   \n",
      "1    -122.22     37.86                21.0       7099.0          1106.0   \n",
      "2    -122.24     37.85                52.0       1467.0           190.0   \n",
      "3    -122.25     37.85                52.0       1274.0           235.0   \n",
      "4    -122.25     37.85                52.0       1627.0           280.0   \n",
      "\n",
      "   population  households  median_income  ocean_<1H OCEAN  ocean_INLAND  \\\n",
      "0       322.0       126.0         8.3252                0             0   \n",
      "1      2401.0      1138.0         8.3014                0             0   \n",
      "2       496.0       177.0         7.2574                0             0   \n",
      "3       558.0       219.0         5.6431                0             0   \n",
      "4       565.0       259.0         3.8462                0             0   \n",
      "\n",
      "   ocean_ISLAND  ocean_NEAR BAY  ocean_NEAR OCEAN  \n",
      "0             0               1                 0  \n",
      "1             0               1                 0  \n",
      "2             0               1                 0  \n",
      "3             0               1                 0  \n",
      "4             0               1                 0  \n",
      "\n",
      "New shape of X after encoding: (19569, 13)\n",
      "\n",
      "Columns in X_encoded:\n",
      "Index(['longitude', 'latitude', 'housing_median_age', 'total_rooms',\n",
      "       'total_bedrooms', 'population', 'households', 'median_income',\n",
      "       'ocean_<1H OCEAN', 'ocean_INLAND', 'ocean_ISLAND', 'ocean_NEAR BAY',\n",
      "       'ocean_NEAR OCEAN'],\n",
      "      dtype='object')\n"
     ]
    }
   ],
   "source": [
    "# Import necessary library for encoding\n",
    "import pandas as pd\n",
    "\n",
    "# Check unique values in 'ocean_proximity' to confirm\n",
    "print(\"Unique values in 'ocean_proximity':\")\n",
    "print(data_cleaned['ocean_proximity'].unique())\n",
    "\n",
    "# Perform one-hot encoding on 'ocean_proximity' with integer values (1 and 0)\n",
    "X_encoded = pd.get_dummies(X, columns=['ocean_proximity'], prefix='ocean', dtype=int)\n",
    "\n",
    "# Verify the new columns\n",
    "print(\"\\nFirst 5 rows of X after encoding:\")\n",
    "print(X_encoded.head())\n",
    "print(\"\\nNew shape of X after encoding:\", X_encoded.shape)\n",
    "print(\"\\nColumns in X_encoded:\")\n",
    "print(X_encoded.columns)"
   ]
  },
  {
   "cell_type": "code",
   "execution_count": 17,
   "id": "394a673e-612f-4876-b83c-2aa14f1d955b",
   "metadata": {},
   "outputs": [
    {
     "data": {
      "text/html": [
       "<div>\n",
       "<style scoped>\n",
       "    .dataframe tbody tr th:only-of-type {\n",
       "        vertical-align: middle;\n",
       "    }\n",
       "\n",
       "    .dataframe tbody tr th {\n",
       "        vertical-align: top;\n",
       "    }\n",
       "\n",
       "    .dataframe thead th {\n",
       "        text-align: right;\n",
       "    }\n",
       "</style>\n",
       "<table border=\"1\" class=\"dataframe\">\n",
       "  <thead>\n",
       "    <tr style=\"text-align: right;\">\n",
       "      <th></th>\n",
       "      <th>longitude</th>\n",
       "      <th>latitude</th>\n",
       "      <th>housing_median_age</th>\n",
       "      <th>total_rooms</th>\n",
       "      <th>total_bedrooms</th>\n",
       "      <th>population</th>\n",
       "      <th>households</th>\n",
       "      <th>median_income</th>\n",
       "      <th>ocean_&lt;1H OCEAN</th>\n",
       "      <th>ocean_INLAND</th>\n",
       "      <th>ocean_ISLAND</th>\n",
       "      <th>ocean_NEAR BAY</th>\n",
       "      <th>ocean_NEAR OCEAN</th>\n",
       "    </tr>\n",
       "  </thead>\n",
       "  <tbody>\n",
       "    <tr>\n",
       "      <th>0</th>\n",
       "      <td>-122.23</td>\n",
       "      <td>37.88</td>\n",
       "      <td>41.0</td>\n",
       "      <td>880.0</td>\n",
       "      <td>129.0</td>\n",
       "      <td>322.0</td>\n",
       "      <td>126.0</td>\n",
       "      <td>8.3252</td>\n",
       "      <td>0</td>\n",
       "      <td>0</td>\n",
       "      <td>0</td>\n",
       "      <td>1</td>\n",
       "      <td>0</td>\n",
       "    </tr>\n",
       "    <tr>\n",
       "      <th>1</th>\n",
       "      <td>-122.22</td>\n",
       "      <td>37.86</td>\n",
       "      <td>21.0</td>\n",
       "      <td>7099.0</td>\n",
       "      <td>1106.0</td>\n",
       "      <td>2401.0</td>\n",
       "      <td>1138.0</td>\n",
       "      <td>8.3014</td>\n",
       "      <td>0</td>\n",
       "      <td>0</td>\n",
       "      <td>0</td>\n",
       "      <td>1</td>\n",
       "      <td>0</td>\n",
       "    </tr>\n",
       "    <tr>\n",
       "      <th>2</th>\n",
       "      <td>-122.24</td>\n",
       "      <td>37.85</td>\n",
       "      <td>52.0</td>\n",
       "      <td>1467.0</td>\n",
       "      <td>190.0</td>\n",
       "      <td>496.0</td>\n",
       "      <td>177.0</td>\n",
       "      <td>7.2574</td>\n",
       "      <td>0</td>\n",
       "      <td>0</td>\n",
       "      <td>0</td>\n",
       "      <td>1</td>\n",
       "      <td>0</td>\n",
       "    </tr>\n",
       "    <tr>\n",
       "      <th>3</th>\n",
       "      <td>-122.25</td>\n",
       "      <td>37.85</td>\n",
       "      <td>52.0</td>\n",
       "      <td>1274.0</td>\n",
       "      <td>235.0</td>\n",
       "      <td>558.0</td>\n",
       "      <td>219.0</td>\n",
       "      <td>5.6431</td>\n",
       "      <td>0</td>\n",
       "      <td>0</td>\n",
       "      <td>0</td>\n",
       "      <td>1</td>\n",
       "      <td>0</td>\n",
       "    </tr>\n",
       "    <tr>\n",
       "      <th>4</th>\n",
       "      <td>-122.25</td>\n",
       "      <td>37.85</td>\n",
       "      <td>52.0</td>\n",
       "      <td>1627.0</td>\n",
       "      <td>280.0</td>\n",
       "      <td>565.0</td>\n",
       "      <td>259.0</td>\n",
       "      <td>3.8462</td>\n",
       "      <td>0</td>\n",
       "      <td>0</td>\n",
       "      <td>0</td>\n",
       "      <td>1</td>\n",
       "      <td>0</td>\n",
       "    </tr>\n",
       "  </tbody>\n",
       "</table>\n",
       "</div>"
      ],
      "text/plain": [
       "   longitude  latitude  housing_median_age  total_rooms  total_bedrooms  \\\n",
       "0    -122.23     37.88                41.0        880.0           129.0   \n",
       "1    -122.22     37.86                21.0       7099.0          1106.0   \n",
       "2    -122.24     37.85                52.0       1467.0           190.0   \n",
       "3    -122.25     37.85                52.0       1274.0           235.0   \n",
       "4    -122.25     37.85                52.0       1627.0           280.0   \n",
       "\n",
       "   population  households  median_income  ocean_<1H OCEAN  ocean_INLAND  \\\n",
       "0       322.0       126.0         8.3252                0             0   \n",
       "1      2401.0      1138.0         8.3014                0             0   \n",
       "2       496.0       177.0         7.2574                0             0   \n",
       "3       558.0       219.0         5.6431                0             0   \n",
       "4       565.0       259.0         3.8462                0             0   \n",
       "\n",
       "   ocean_ISLAND  ocean_NEAR BAY  ocean_NEAR OCEAN  \n",
       "0             0               1                 0  \n",
       "1             0               1                 0  \n",
       "2             0               1                 0  \n",
       "3             0               1                 0  \n",
       "4             0               1                 0  "
      ]
     },
     "execution_count": 17,
     "metadata": {},
     "output_type": "execute_result"
    }
   ],
   "source": [
    "X_encoded.head()"
   ]
  },
  {
   "cell_type": "code",
   "execution_count": 18,
   "id": "c179936e-669a-4e0b-b314-c6e5c90118ff",
   "metadata": {},
   "outputs": [
    {
     "name": "stdout",
     "output_type": "stream",
     "text": [
      "Training set (X_train) shape: (15655, 13)\n",
      "Testing set (X_test) shape: (3914, 13)\n",
      "Training target (Y_train) shape: (15655,)\n",
      "Testing target (Y_test) shape: (3914,)\n",
      "\n",
      "Total rows: 19569\n",
      "Training rows: 15655 (80.0%)\n",
      "Testing rows: 3914 (20.0%)\n"
     ]
    }
   ],
   "source": [
    "# Import necessary library for splitting\n",
    "from sklearn.model_selection import train_test_split\n",
    "\n",
    "# Split the data into 80% training and 20% testing\n",
    "X_train, X_test, Y_train, Y_test = train_test_split(X_encoded, Y, test_size=0.2, random_state=42)\n",
    "\n",
    "# Verify the shapes\n",
    "print(\"Training set (X_train) shape:\", X_train.shape)\n",
    "print(\"Testing set (X_test) shape:\", X_test.shape)\n",
    "print(\"Training target (Y_train) shape:\", Y_train.shape)\n",
    "print(\"Testing target (Y_test) shape:\", Y_test.shape)\n",
    "\n",
    "# Check the split proportions\n",
    "total_rows = X_encoded.shape[0]\n",
    "train_rows = X_train.shape[0]\n",
    "test_rows = X_test.shape[0]\n",
    "print(f\"\\nTotal rows: {total_rows}\")\n",
    "print(f\"Training rows: {train_rows} ({train_rows/total_rows*100:.1f}%)\")\n",
    "print(f\"Testing rows: {test_rows} ({test_rows/total_rows*100:.1f}%)\")"
   ]
  },
  {
   "cell_type": "code",
   "execution_count": 19,
   "id": "2c031209-8e10-4bad-bf27-8fd47ec2161f",
   "metadata": {},
   "outputs": [
    {
     "name": "stdout",
     "output_type": "stream",
     "text": [
      "X_train_scaled shape: (15655, 13)\n",
      "X_test_scaled shape: (3914, 13)\n",
      "\n",
      "Mean of X_train_scaled (should be near 0):\n",
      "[ 1.68206412e-15 -3.46034993e-15 -1.01441266e-16  5.93442751e-17\n",
      "  1.41609284e-16 -6.19540616e-17 -1.02122080e-17  2.37830976e-16\n",
      "  1.01214328e-16  6.26348755e-17 -3.63100727e-18  4.53875909e-18\n",
      "  1.99705400e-17]\n",
      "\n",
      "Std of X_train_scaled (should be near 1):\n",
      "[1. 1. 1. 1. 1. 1. 1. 1. 1. 1. 1. 1. 1.]\n",
      "\n",
      "First 5 rows of X_train_scaled:\n",
      "[[ 0.62078436 -0.69898459  1.24785982  0.03906117  0.26307461  0.20855488\n",
      "   0.40294787 -0.1510368   1.13596522 -0.70453375 -0.01787425 -0.34822076\n",
      "  -0.37488159]\n",
      " [ 1.07497813 -0.79192516  0.36813517 -0.15562895 -0.16535521  0.22186758\n",
      "  -0.10764748 -0.59093455 -0.88030865  1.41937842 -0.01787425 -0.34822076\n",
      "  -0.37488159]\n",
      " [ 0.6257755  -0.87092464  0.52808511  0.1382173   0.28449611  0.20766736\n",
      "   0.26678911  0.10650357  1.13596522 -0.70453375 -0.01787425 -0.34822076\n",
      "  -0.37488159]\n",
      " [ 2.08318847 -1.30309827 -0.75151438 -0.69351701 -0.87464458 -0.70292163\n",
      "  -0.85652065 -0.22210018 -0.88030865  1.41937842 -0.01787425 -0.34822076\n",
      "  -0.37488159]\n",
      " [-1.23092871  0.78341743 -0.03173967 -0.46939698 -0.65328917 -0.66120849\n",
      "  -0.60253219  1.29687949  1.13596522 -0.70453375 -0.01787425 -0.34822076\n",
      "  -0.37488159]]\n"
     ]
    }
   ],
   "source": [
    "# Import necessary library for standardization\n",
    "from sklearn.preprocessing import StandardScaler\n",
    "\n",
    "# Initialize the scaler\n",
    "scaler = StandardScaler()\n",
    "\n",
    "# Fit the scaler on the training data and transform it\n",
    "X_train_scaled = scaler.fit_transform(X_train)\n",
    "\n",
    "# Transform the test data using the same scaler (no fitting on test data!)\n",
    "X_test_scaled = scaler.transform(X_test)\n",
    "\n",
    "# Verify the transformation\n",
    "print(\"X_train_scaled shape:\", X_train_scaled.shape)\n",
    "print(\"X_test_scaled shape:\", X_test_scaled.shape)\n",
    "\n",
    "# Check mean and std of training data (should be ~0 and ~1)\n",
    "print(\"\\nMean of X_train_scaled (should be near 0):\")\n",
    "print(X_train_scaled.mean(axis=0))\n",
    "print(\"\\nStd of X_train_scaled (should be near 1):\")\n",
    "print(X_train_scaled.std(axis=0))\n",
    "\n",
    "# Optional: Check a few rows to confirm scaling\n",
    "print(\"\\nFirst 5 rows of X_train_scaled:\")\n",
    "print(X_train_scaled[:5])"
   ]
  },
  {
   "cell_type": "code",
   "execution_count": 20,
   "id": "81a019e1-c561-4c2a-892f-b12ee75bf4cf",
   "metadata": {},
   "outputs": [
    {
     "name": "stdout",
     "output_type": "stream",
     "text": [
      "Linear Regression RMSE on test set: 58988.201095488985\n",
      "\n",
      "First 5 predicted vs actual values:\n",
      "Predicted: 62834.07, Actual: 55200.00\n",
      "Predicted: 119740.09, Actual: 97800.00\n",
      "Predicted: 263720.13, Actual: 245300.00\n",
      "Predicted: 154737.80, Actual: 162100.00\n",
      "Predicted: 202114.83, Actual: 163100.00\n"
     ]
    }
   ],
   "source": [
    "# Import necessary libraries for Linear Regression and evaluation\n",
    "from sklearn.linear_model import LinearRegression\n",
    "from sklearn.metrics import mean_squared_error\n",
    "import numpy as np\n",
    "\n",
    "# Initialize the Linear Regression model\n",
    "lr_model = LinearRegression()\n",
    "\n",
    "# Train the model on the standardized training data\n",
    "lr_model.fit(X_train_scaled, Y_train)\n",
    "\n",
    "# Predict on the test set\n",
    "Y_pred_lr = lr_model.predict(X_test_scaled)\n",
    "\n",
    "# Calculate RMSE for the test set\n",
    "rmse_lr = np.sqrt(mean_squared_error(Y_test, Y_pred_lr))\n",
    "\n",
    "# Print the results\n",
    "print(\"Linear Regression RMSE on test set:\", rmse_lr)\n",
    "\n",
    "# Optional: Check a few predictions vs. actual values\n",
    "print(\"\\nFirst 5 predicted vs actual values:\")\n",
    "for pred, actual in zip(Y_pred_lr[:5], Y_test[:5]):\n",
    "    print(f\"Predicted: {pred:.2f}, Actual: {actual:.2f}\")"
   ]
  },
  {
   "cell_type": "code",
   "execution_count": 23,
   "id": "41a462bd-a66b-4e0c-9d72-3cce0559c4c9",
   "metadata": {},
   "outputs": [
    {
     "name": "stdout",
     "output_type": "stream",
     "text": [
      "Tuned Decision Tree Regression RMSE on test set: 51246.59784978508\n",
      "\n",
      "First 5 predicted vs actual values (tuned):\n",
      "Predicted: 64970.37, Actual: 55200.00\n",
      "Predicted: 103687.50, Actual: 97800.00\n",
      "Predicted: 237791.84, Actual: 245300.00\n",
      "Predicted: 111634.17, Actual: 162100.00\n",
      "Predicted: 173615.38, Actual: 163100.00\n"
     ]
    }
   ],
   "source": [
    "# Import necessary library\n",
    "from sklearn.tree import DecisionTreeRegressor\n",
    "from sklearn.metrics import mean_squared_error\n",
    "import numpy as np\n",
    "\n",
    "# Initialize the Decision Tree Regressor with tuning\n",
    "dt_model_tuned = DecisionTreeRegressor(max_depth=10, min_samples_split=10, min_samples_leaf=5, random_state=42)\n",
    "\n",
    "# Train the model\n",
    "dt_model_tuned.fit(X_train_scaled, Y_train)\n",
    "\n",
    "# Predict on the test set\n",
    "Y_pred_dt_tuned = dt_model_tuned.predict(X_test_scaled)\n",
    "\n",
    "# Calculate RMSE\n",
    "rmse_dt_tuned = np.sqrt(mean_squared_error(Y_test, Y_pred_dt_tuned))\n",
    "\n",
    "# Print the results\n",
    "print(\"Tuned Decision Tree Regression RMSE on test set:\", rmse_dt_tuned)\n",
    "\n",
    "# Compare first 5 predictions\n",
    "print(\"\\nFirst 5 predicted vs actual values (tuned):\")\n",
    "for pred, actual in zip(Y_pred_dt_tuned[:5], Y_test[:5]):\n",
    "    print(f\"Predicted: {pred:.2f}, Actual: {actual:.2f}\")"
   ]
  },
  {
   "cell_type": "code",
   "execution_count": 24,
   "id": "8b5d30b9-a0f7-453f-a9a5-6aef0012cddc",
   "metadata": {},
   "outputs": [
    {
     "name": "stdout",
     "output_type": "stream",
     "text": [
      "Random Forest Regression RMSE on test set: 43193.22738365629\n",
      "\n",
      "First 5 predicted vs actual values:\n",
      "Predicted: 69076.00, Actual: 55200.00\n",
      "Predicted: 104688.00, Actual: 97800.00\n",
      "Predicted: 260620.00, Actual: 245300.00\n",
      "Predicted: 124421.00, Actual: 162100.00\n",
      "Predicted: 167446.00, Actual: 163100.00\n"
     ]
    }
   ],
   "source": [
    "# Import necessary library for Random Forest Regression\n",
    "from sklearn.ensemble import RandomForestRegressor\n",
    "from sklearn.metrics import mean_squared_error\n",
    "import numpy as np\n",
    "\n",
    "# Initialize the Random Forest Regressor\n",
    "rf_model = RandomForestRegressor(n_estimators=100, random_state=42)\n",
    "\n",
    "# Train the model on the standardized training data\n",
    "rf_model.fit(X_train_scaled, Y_train)\n",
    "\n",
    "# Predict on the test set\n",
    "Y_pred_rf = rf_model.predict(X_test_scaled)\n",
    "\n",
    "# Calculate RMSE for the test set\n",
    "rmse_rf = np.sqrt(mean_squared_error(Y_test, Y_pred_rf))\n",
    "\n",
    "# Print the results\n",
    "print(\"Random Forest Regression RMSE on test set:\", rmse_rf)\n",
    "\n",
    "# Compare first 5 predictions\n",
    "print(\"\\nFirst 5 predicted vs actual values:\")\n",
    "for pred, actual in zip(Y_pred_rf[:5], Y_test[:5]):\n",
    "    print(f\"Predicted: {pred:.2f}, Actual: {actual:.2f}\")"
   ]
  },
  {
   "cell_type": "code",
   "execution_count": 25,
   "id": "0ecd1a0b-7954-4174-ba57-81bfe8922b00",
   "metadata": {},
   "outputs": [
    {
     "name": "stdout",
     "output_type": "stream",
     "text": [
      "Correlation matrix for potentially redundant features:\n",
      "                total_rooms  total_bedrooms  households  population\n",
      "total_rooms        1.000000        0.931110    0.921278    0.859642\n",
      "total_bedrooms     0.931110        1.000000    0.973927    0.875347\n",
      "households         0.921278        0.973927    1.000000    0.909218\n",
      "population         0.859642        0.875347    0.909218    1.000000\n"
     ]
    },
    {
     "data": {
      "image/png": "[encoded data removed]",
      "text/plain": [
       "<Figure size 800x600 with 2 Axes>"
      ]
     },
     "metadata": {},
     "output_type": "display_data"
    }
   ],
   "source": [
    "# Correlation matrix for the original features\n",
    "correlation_matrix = X_encoded[['total_rooms', 'total_bedrooms', 'households', 'population']].corr()\n",
    "print(\"Correlation matrix for potentially redundant features:\")\n",
    "print(correlation_matrix)\n",
    "\n",
    "# Optional: Visualize with a heatmap\n",
    "import seaborn as sns\n",
    "import matplotlib.pyplot as plt\n",
    "plt.figure(figsize=(8, 6))\n",
    "sns.heatmap(correlation_matrix, annot=True, cmap='coolwarm', vmin=-1, vmax=1)\n",
    "plt.title(\"Correlation Heatmap\")\n",
    "plt.show()"
   ]
  },
  {
   "cell_type": "code",
   "execution_count": 26,
   "id": "b1b81c1d-c98a-4698-a0ea-c0393f4f8f03",
   "metadata": {},
   "outputs": [
    {
     "name": "stdout",
     "output_type": "stream",
     "text": [
      "New feature columns: Index(['longitude', 'latitude', 'housing_median_age', 'median_income',\n",
      "       'ocean_<1H OCEAN', 'ocean_INLAND', 'ocean_ISLAND', 'ocean_NEAR BAY',\n",
      "       'ocean_NEAR OCEAN', 'rooms_per_household', 'bedrooms_per_room',\n",
      "       'population_per_household'],\n",
      "      dtype='object')\n",
      "New shape: (19569, 12)\n",
      "\n",
      "X_train_scaled shape: (15655, 12)\n",
      "X_test_scaled shape: (3914, 12)\n"
     ]
    }
   ],
   "source": [
    "# Create new features\n",
    "X_engineered = X_encoded.copy()\n",
    "X_engineered['rooms_per_household'] = X_engineered['total_rooms'] / X_engineered['households']\n",
    "X_engineered['bedrooms_per_room'] = X_engineered['total_bedrooms'] / X_engineered['total_rooms']\n",
    "X_engineered['population_per_household'] = X_engineered['population'] / X_engineered['households']\n",
    "\n",
    "# Drop original correlated columns\n",
    "X_engineered = X_engineered.drop(['total_rooms', 'total_bedrooms', 'population', 'households'], axis=1)\n",
    "\n",
    "# Check for any infinities or NaNs from division (e.g., divide by zero)\n",
    "X_engineered.replace([np.inf, -np.inf], np.nan, inplace=True)\n",
    "X_engineered.fillna(X_engineered.mean(), inplace=True)\n",
    "\n",
    "# Verify the new structure\n",
    "print(\"New feature columns:\", X_engineered.columns)\n",
    "print(\"New shape:\", X_engineered.shape)\n",
    "\n",
    "# Re-run the split with the engineered features\n",
    "from sklearn.model_selection import train_test_split\n",
    "X_train, X_test, Y_train, Y_test = train_test_split(X_engineered, Y, test_size=0.2, random_state=42)\n",
    "\n",
    "# Re-standardize\n",
    "from sklearn.preprocessing import StandardScaler\n",
    "scaler = StandardScaler()\n",
    "X_train_scaled = scaler.fit_transform(X_train)\n",
    "X_test_scaled = scaler.transform(X_test)\n",
    "\n",
    "# Verify shapes\n",
    "print(\"\\nX_train_scaled shape:\", X_train_scaled.shape)\n",
    "print(\"X_test_scaled shape:\", X_test_scaled.shape)"
   ]
  },
  {
   "cell_type": "code",
   "execution_count": 27,
   "id": "0e607921-c62f-4adf-954d-1d9647abfdf9",
   "metadata": {},
   "outputs": [
    {
     "name": "stdout",
     "output_type": "stream",
     "text": [
      "Random Forest Regression RMSE on test set (engineered features): 43396.28963685947\n"
     ]
    }
   ],
   "source": [
    "from sklearn.ensemble import RandomForestRegressor\n",
    "from sklearn.metrics import mean_squared_error\n",
    "import numpy as np\n",
    "\n",
    "rf_model = RandomForestRegressor(n_estimators=100, random_state=42)\n",
    "rf_model.fit(X_train_scaled, Y_train)\n",
    "Y_pred_rf = rf_model.predict(X_test_scaled)\n",
    "rmse_rf = np.sqrt(mean_squared_error(Y_test, Y_pred_rf))\n",
    "print(\"Random Forest Regression RMSE on test set (engineered features):\", rmse_rf)"
   ]
  },
  {
   "cell_type": "code",
   "execution_count": 28,
   "id": "8107e976-e38c-4ee2-a790-59ad8542e54b",
   "metadata": {},
   "outputs": [
    {
     "name": "stdout",
     "output_type": "stream",
     "text": [
      "Linear Regression RMSE on test set (engineered features): 60149.693794436695\n",
      "\n",
      "First 5 predicted vs actual values (Linear Regression):\n",
      "Predicted: 69844.85, Actual: 55200.00\n",
      "Predicted: 91633.12, Actual: 97800.00\n",
      "Predicted: 262577.78, Actual: 245300.00\n",
      "Predicted: 155890.38, Actual: 162100.00\n",
      "Predicted: 204820.68, Actual: 163100.00\n"
     ]
    }
   ],
   "source": [
    "from sklearn.linear_model import LinearRegression\n",
    "from sklearn.metrics import mean_squared_error\n",
    "import numpy as np\n",
    "\n",
    "# Initialize the Linear Regression model\n",
    "lr_model = LinearRegression()\n",
    "\n",
    "# Train the model on the engineered, standardized training data\n",
    "lr_model.fit(X_train_scaled, Y_train)\n",
    "\n",
    "# Predict on the test set\n",
    "Y_pred_lr = lr_model.predict(X_test_scaled)\n",
    "\n",
    "# Calculate RMSE\n",
    "rmse_lr = np.sqrt(mean_squared_error(Y_test, Y_pred_lr))\n",
    "\n",
    "# Print results\n",
    "print(\"Linear Regression RMSE on test set (engineered features):\", rmse_lr)\n",
    "\n",
    "# Optional: First 5 predictions vs actuals\n",
    "print(\"\\nFirst 5 predicted vs actual values (Linear Regression):\")\n",
    "for pred, actual in zip(Y_pred_lr[:5], Y_test[:5]):\n",
    "    print(f\"Predicted: {pred:.2f}, Actual: {actual:.2f}\")"
   ]
  },
  {
   "cell_type": "code",
   "execution_count": 30,
   "id": "22badcba-fb24-41d1-a303-bae272637ee3",
   "metadata": {},
   "outputs": [
    {
     "name": "stdout",
     "output_type": "stream",
     "text": [
      "Tuned Decision Tree Regression RMSE on test set (engineered features): 51145.25431892351\n",
      "\n",
      "First 5 predicted vs actual values (Tuned Decision Tree):\n",
      "Predicted: 66627.50, Actual: 55200.00\n",
      "Predicted: 89863.04, Actual: 97800.00\n",
      "Predicted: 250514.56, Actual: 245300.00\n",
      "Predicted: 118130.29, Actual: 162100.00\n",
      "Predicted: 193727.09, Actual: 163100.00\n"
     ]
    }
   ],
   "source": [
    "from sklearn.tree import DecisionTreeRegressor\n",
    "from sklearn.metrics import mean_squared_error\n",
    "import numpy as np\n",
    "\n",
    "# Initialize the Tuned Decision Tree Regressor\n",
    "dt_model_tuned = DecisionTreeRegressor(max_depth=10, min_samples_split=10, min_samples_leaf=5, random_state=42)\n",
    "\n",
    "# Train the model on the engineered, standardized training data\n",
    "dt_model_tuned.fit(X_train_scaled, Y_train)\n",
    "\n",
    "# Predict on the test set\n",
    "Y_pred_dt = dt_model_tuned.predict(X_test_scaled)\n",
    "\n",
    "# Calculate RMSE\n",
    "rmse_dt = np.sqrt(mean_squared_error(Y_test, Y_pred_dt))\n",
    "\n",
    "# Print results\n",
    "print(\"Tuned Decision Tree Regression RMSE on test set (engineered features):\", rmse_dt)\n",
    "\n",
    "# First 5 predictions vs actuals\n",
    "print(\"\\nFirst 5 predicted vs actual values (Tuned Decision Tree):\")\n",
    "for pred, actual in zip(Y_pred_dt[:5], Y_test[:5]):\n",
    "    print(f\"Predicted: {pred:.2f}, Actual: {actual:.2f}\")"
   ]
  },
  {
   "cell_type": "code",
   "execution_count": 31,
   "id": "b01acc86-b29d-4b38-aad3-2310f130fcd5",
   "metadata": {},
   "outputs": [],
   "source": [
    "import pickle\n",
    "with open('new_carlifornia.pickle','wb') as f:\n",
    "    pickle.dump(lr_model,f)"
   ]
  }
 ],
 "metadata": {
  "kernelspec": {
   "display_name": "Python 3 (ipykernel)",
   "language": "python",
   "name": "python3"
  },
  "language_info": {
   "codemirror_mode": {
    "name": "ipython",
    "version": 3
   },
   "file_extension": ".py",
   "mimetype": "text/x-python",
   "name": "python",
   "nbconvert_exporter": "python",
   "pygments_lexer": "ipython3",
   "version": "3.13.1"
  }
 },
 "nbformat": 4,
 "nbformat_minor": 5
}
